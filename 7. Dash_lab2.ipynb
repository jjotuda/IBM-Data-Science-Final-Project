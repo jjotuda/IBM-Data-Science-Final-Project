{
 "cells": [
  {
   "cell_type": "markdown",
   "id": "ea43598c-9b7b-4747-a636-4d88777cd9e1",
   "metadata": {},
   "source": [
    "### Dash Lab"
   ]
  },
  {
   "cell_type": "code",
   "execution_count": 20,
   "id": "01667e3a-b3eb-4478-addb-db41c8eb8890",
   "metadata": {},
   "outputs": [
    {
     "data": {
      "text/html": [
       "\n",
       "        <iframe\n",
       "            width=\"100%\"\n",
       "            height=\"650\"\n",
       "            src=\"http://127.0.0.1:8050/\"\n",
       "            frameborder=\"0\"\n",
       "            allowfullscreen\n",
       "            \n",
       "        ></iframe>\n",
       "        "
      ],
      "text/plain": [
       "<IPython.lib.display.IFrame at 0x1684db730>"
      ]
     },
     "metadata": {},
     "output_type": "display_data"
    }
   ],
   "source": [
    "import pandas as pd\n",
    "import dash\n",
    "import dash_core_components as dcc\n",
    "import dash_html_components as html\n",
    "import plotly.graph_objects as go\n",
    "import plotly.express as px\n",
    "from dash.dependencies import Input, Output\n",
    "\n",
    "spacex_df = pd.read_csv(\"https://cf-courses-data.s3.us.cloud-object-storage.appdomain.cloud/IBM-DS0321EN-SkillsNetwork/datasets/spacex_launch_dash.csv\")\n",
    "spacex_df.drop(columns = {\"Unnamed: 0\"}, inplace = True)\n",
    "\n",
    "# Calculate the success rates for each Launch Site\n",
    "success = spacex_df.groupby(\"Launch Site\").agg({\"class\": \"sum\"}).reset_index()\n",
    "success[\"percentage\"] = success[\"class\"] / success[\"class\"].sum()\n",
    "\n",
    "# Create the Dash app\n",
    "app = dash.Dash(__name__)\n",
    "\n",
    "# Define the layout of the app\n",
    "app.layout = html.Div([\n",
    "    html.H1(\"SpaceX Launch Records Dashboard\"),\n",
    "\n",
    "    # TASK 1: Launch Site Drop-down Input Component\n",
    "    dcc.Dropdown(\n",
    "        id = \"launch-site-dropdown\",\n",
    "        options = [{\"label\": site, \"value\": site} for site in success[\"Launch Site\"]],\n",
    "        value = success[\"Launch Site\"].iloc[0],  # Default value for the dropdown\n",
    "    ),\n",
    "    \n",
    "    # TASK 2: Callback to render success-pie-chart based on selected site dropdown\n",
    "    html.Div([\n",
    "        html.Label(\"Success Rate for Each Launch Site:\"),\n",
    "        dcc.Graph(id = \"success-pie-chart\"),\n",
    "    ]),\n",
    "\n",
    "    # TASK 3: Range Slider to Select Payload\n",
    "    dcc.RangeSlider(\n",
    "        id = \"payload-range-slider\",\n",
    "        min = int(spacex_df[\"Payload Mass (kg)\"].min()),  # Convert to integer\n",
    "        max = int(spacex_df[\"Payload Mass (kg)\"].max()),  # Convert to integer\n",
    "        step = 1000,\n",
    "        value = [int(spacex_df[\"Payload Mass (kg)\"].min()), int(spacex_df[\"Payload Mass (kg)\"].max())],  # Convert to integer\n",
    "        marks = {payload: str(payload) for payload in range(\n",
    "            int(spacex_df[\"Payload Mass (kg)\"].min()),\n",
    "            int(spacex_df[\"Payload Mass (kg)\"].max()) + 1,\n",
    "            5000\n",
    "        )},\n",
    "    ),\n",
    "\n",
    "    # TASK 4: Callback to render the success-payload-scatter-chart scatter plot\n",
    "    html.Div([\n",
    "        html.Label(\"Scatter Plot: Payload Mass (kg) vs. Class\"),\n",
    "        dcc.Graph(id = \"success-payload-scatter-chart\"),\n",
    "    ]),\n",
    "])\n",
    "\n",
    "# TASK 2: Callback function to update pie chart based on selected launch site\n",
    "@app.callback(\n",
    "    Output(\"success-pie-chart\", \"figure\"),\n",
    "    [Input(\"launch-site-dropdown\", \"value\")]\n",
    ")\n",
    "def update_pie_chart(selected_site):\n",
    "    pie_chart_fig = go.Figure(\n",
    "        data = go.Pie(\n",
    "            labels = success[\"Launch Site\"],\n",
    "            values = success[\"percentage\"],\n",
    "            hole = 0.3,\n",
    "        ),\n",
    "    )\n",
    "    pie_chart_fig.update_layout(title_text = \"Success Rate by Launch Site\")\n",
    "    return pie_chart_fig\n",
    "\n",
    "# TASK 4: Callback function to update scatter plot based on selected payload range\n",
    "@app.callback(\n",
    "    Output(\"success-payload-scatter-chart\", \"figure\"),\n",
    "    [Input(\"payload-range-slider\", \"value\")]\n",
    ")\n",
    "def update_scatter_chart(selected_payload_range):\n",
    "    filtered_data = spacex_df[\n",
    "        (spacex_df[\"Payload Mass (kg)\"] >= selected_payload_range[0]) &\n",
    "        (spacex_df[\"Payload Mass (kg)\"] <= selected_payload_range[1])\n",
    "    ]\n",
    "    scatter_fig = px.scatter(\n",
    "        filtered_data,\n",
    "        x = \"Payload Mass (kg)\",\n",
    "        y = \"class\",\n",
    "        color = \"Launch Site\",\n",
    "        color_discrete_sequence=px.colors.qualitative.Set1,  # Set consistent colors for launch sites\n",
    "        title = \"Payload Mass vs. Class\",\n",
    "    )\n",
    "    return scatter_fig\n",
    "\n",
    "# Run the app\n",
    "if __name__ == \"__main__\":\n",
    "    app.run_server(debug=True)"
   ]
  }
 ],
 "metadata": {
  "kernelspec": {
   "display_name": "Python 3 (ipykernel)",
   "language": "python",
   "name": "python3"
  },
  "language_info": {
   "codemirror_mode": {
    "name": "ipython",
    "version": 3
   },
   "file_extension": ".py",
   "mimetype": "text/x-python",
   "name": "python",
   "nbconvert_exporter": "python",
   "pygments_lexer": "ipython3",
   "version": "3.9.13"
  }
 },
 "nbformat": 4,
 "nbformat_minor": 5
}
